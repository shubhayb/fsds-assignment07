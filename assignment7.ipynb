{
 "cells": [
  {
   "cell_type": "markdown",
   "id": "7ca5c4f3-2fbe-444c-8a42-6881e745a5c9",
   "metadata": {},
   "source": [
    "1. What is the name of the feature responsible for generating Regex objects?\n",
    "Ans: The re.compile() function returns Regex object"
   ]
  },
  {
   "cell_type": "markdown",
   "id": "e2fd4d15-0816-4b59-84ea-4099ecc25b5a",
   "metadata": {},
   "source": [
    "2. Why do raw strings often appear in Regex objects?\n",
    "Ans: Raw strings are used so that backslashes do not have to be escaped"
   ]
  },
  {
   "cell_type": "markdown",
   "id": "576e4cbf-4e8d-450b-ba2a-15e1af66a72e",
   "metadata": {},
   "source": [
    "3. What is the return value of the search() method?\n",
    "Ans: The search() method returns Match objects"
   ]
  },
  {
   "cell_type": "markdown",
   "id": "72838dd3-f996-483d-8ff8-c879c4249984",
   "metadata": {},
   "source": [
    "4. From a Match item, how do you get the actual strings that match the pattern?\n",
    "Ans: The group() method returns strings of the matched text."
   ]
  },
  {
   "cell_type": "markdown",
   "id": "7d185c18-6240-4355-8455-f6c12d8d7876",
   "metadata": {},
   "source": [
    "5. In the regex which created from the r&#39;(\\d\\d\\d)-(\\d\\d\\d-\\d\\d\\d\\d)&#39;, what does group zero cover?\n",
    "Group 2? Group 1?\n",
    "\n",
    "Ans: Group 0 is the entire match, group 1 covers the first set of parentheses, and group 2 covers the second set of parentheses"
   ]
  },
  {
   "cell_type": "markdown",
   "id": "730ee2c3-275e-4f9b-be01-a47694e981b7",
   "metadata": {},
   "source": [
    "6. In standard expression syntax, parentheses and intervals have distinct meanings. How can you tell\n",
    "a regex that you want it to fit real parentheses and periods?\n",
    "\n",
    "Ans: Periods and parentheses can be escaped with a backslash: \\., \\(, and \\)"
   ]
  },
  {
   "cell_type": "markdown",
   "id": "5ddb6f43-b73a-44cc-b093-6eba3690efe5",
   "metadata": {},
   "source": [
    "  7.The findall() method returns a string list or a list of string tuples. What causes it to return one of the two options?\n",
    "\n",
    "   Ans: If the regex has no groups, a list of strings is returned. If the regex has groups, a list of tuples of strings is returned."
   ]
  },
  {
   "cell_type": "markdown",
   "id": "00f4ad0e-4242-4a93-a308-ac13cc34b839",
   "metadata": {},
   "source": [
    "8. In standard expressions, what does the | character mean?\n",
    "\n",
    "Ans: The | character signifies matching “either, or” between two groups.\n",
    "\n"
   ]
  },
  {
   "cell_type": "markdown",
   "id": "e47868a4-87a6-4541-adb2-cf498f763dd0",
   "metadata": {},
   "source": [
    "9.In regular expressions, what does the character stand for?\n",
    "\n",
    "   Ans: which character ?not mentioned"
   ]
  },
  {
   "cell_type": "markdown",
   "id": "929eb83f-cfd2-4854-b44a-a10b3d28c437",
   "metadata": {},
   "source": [
    "10.In regular expressions, what is the difference between the + and * characters?\n",
    "\n",
    "Ans: The + matches one or more. The * matches zero or more.\n",
    "\n",
    "\n"
   ]
  },
  {
   "cell_type": "markdown",
   "id": "b40d64eb-1b97-4ab3-9939-fd993ac5d707",
   "metadata": {},
   "source": [
    "11. What is the difference between {4} and {4,5} in regular expression?\n",
    "\n",
    "Ans: The {4} matches exactly three instances of the preceding group. The {4,5} matches between four and five instances"
   ]
  },
  {
   "cell_type": "markdown",
   "id": "c66ca694-b828-4f5b-a73b-7f056c8759fc",
   "metadata": {},
   "source": [
    "12. What do you mean by the \\d, \\w, and \\s shorthand character classes signify in regular\n",
    "expressions?\n",
    "\n",
    "Ans: The \\d, \\w, and \\s shorthand character classes match a single digit, word, or space character, respectively"
   ]
  },
  {
   "cell_type": "markdown",
   "id": "9b1f48d6-90ec-462a-9b02-9c3c39d0904a",
   "metadata": {},
   "source": [
    "13. What do means by \\D, \\W, and \\S shorthand character classes signify in regular expressions?\n",
    "\n",
    "Ans: The \\D, \\W, and \\S shorthand character classes match a single character that is not a digit, word, or space character, respectively.\n"
   ]
  },
  {
   "cell_type": "markdown",
   "id": "b6802017-80de-44a2-b2c9-7cc27ceb3c90",
   "metadata": {},
   "source": [
    "14. What is the difference between .*? and .*?\n",
    "\n",
    "Ans: The .* performs a greedy match, and the .*? performs a nongreedy match."
   ]
  },
  {
   "cell_type": "markdown",
   "id": "e4248a2c-1563-4a7c-b188-5e5866b9d62b",
   "metadata": {},
   "source": [
    "15. What is the syntax for matching both numbers and lowercase letters with a character class?\n",
    "\n",
    "Ans: Either [0-9a-z] or [a-z0-9]"
   ]
  },
  {
   "cell_type": "markdown",
   "id": "a02b99c7-cd52-497f-bbc3-fcb22b515491",
   "metadata": {},
   "source": [
    "16. What is the procedure for making a normal expression in regax case insensitive?\n",
    "\n",
    "Ans: Passing re.I or re.IGNORECASE as the second argument to re.compile() will make the matching case insensitive."
   ]
  },
  {
   "cell_type": "markdown",
   "id": "b33860e9-2f3a-4071-ade9-0ab8d1778e54",
   "metadata": {},
   "source": [
    "17. What does the . character normally match? What does it match if re.DOTALL is passed as 2nd\n",
    "argument in re.compile()?\n",
    "\n",
    "Ans: The . character normally matches any character except the newline character. If re.DOTALL is passed as the second argument to re.compile(), then the dot will also match newline characters."
   ]
  },
  {
   "cell_type": "markdown",
   "id": "55aa18b3-59f4-454e-96b8-2880810c8a99",
   "metadata": {},
   "source": [
    "18. If numReg = re.compile(r&#39;\\d+&#39;), what will numRegex.sub(&#39;X&#39;, &#39;11 drummers, 10 pipers, five rings, 4\n",
    "hen&#39;) return?\n",
    "                  \n",
    "Ans: 'X drummers, X pipers, five rings, X hens'                    \n"
   ]
  },
  {
   "cell_type": "markdown",
   "id": "1411f7e6-2275-471e-a63c-f9c5d4ec80fe",
   "metadata": {},
   "source": [
    "19. What does passing re.VERBOSE as the 2nd argument to re.compile() allow to do?\n",
    "\n",
    "Ans: The re.VERBOSE argument allows you to add whitespace and comments to the string passed to re.compile()\n",
    "\n"
   ]
  },
  {
   "cell_type": "markdown",
   "id": "370b6542-1a4e-4929-81d0-d6c7633f6efb",
   "metadata": {},
   "source": [
    "20. How would you write a regex that match a number with comma for every three digits? It must\n",
    "match the given following:\n",
    "'42'\n",
    "\n",
    "'1,234'\n",
    "\n",
    "'6,368,745'\n",
    "\n",
    "but not the following:\n",
    "    \n",
    "&#39;12,34,567&#39; (which has only two digits between the commas)\n",
    "\n",
    "&#39;1234&#39; (which lacks commas)\n",
    "\n",
    "Ans: e.compile(r'^\\d{1,3}(,{3})*$') will create this regex, but other regex strings can produce a similar regular expression.\n",
    "\n"
   ]
  },
  {
   "cell_type": "markdown",
   "id": "7fb1562c-2027-42cb-95dc-0de3f077565f",
   "metadata": {},
   "source": [
    "21. How would you write a regex that matches the full name of someone whose last name is Watanabe? You can assume that the first name that comes before it will always be one word that begins with a capital letter. The regex must match the following:\n",
    "\n",
    "'Haruto Watanabe'\n",
    "\n",
    "'Alice Watanabe'\n",
    "\n",
    "'RoboCop Watanabe'\n",
    "\n",
    "but not the following:\n",
    "\n",
    "'haruto Watanabe' (where the first name is not capitalized)\n",
    "\n",
    "'Mr. Watanabe' (where the preceding word has a nonletter character)\n",
    "\n",
    "'Watanabe' (which has no first name)\n",
    "\n",
    "'Haruto watanabe' (where Watanabe is not capitalized)\n",
    "\n",
    "Ans: re.compile(r'[A-Z][a-z]*\\sWatanabe')\n",
    "\n"
   ]
  }
 ],
 "metadata": {
  "kernelspec": {
   "display_name": "Python 3 (ipykernel)",
   "language": "python",
   "name": "python3"
  },
  "language_info": {
   "codemirror_mode": {
    "name": "ipython",
    "version": 3
   },
   "file_extension": ".py",
   "mimetype": "text/x-python",
   "name": "python",
   "nbconvert_exporter": "python",
   "pygments_lexer": "ipython3",
   "version": "3.10.6"
  }
 },
 "nbformat": 4,
 "nbformat_minor": 5
}
